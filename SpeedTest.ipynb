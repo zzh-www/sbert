{
 "cells": [
  {
   "cell_type": "code",
   "execution_count": 1,
   "metadata": {},
   "outputs": [],
   "source": [
    "from transformers import AutoTokenizer\n",
    "import onnxruntime\n",
    "import onnx_tool\n",
    "import json\n"
   ]
  },
  {
   "cell_type": "code",
   "execution_count": 2,
   "metadata": {},
   "outputs": [],
   "source": [
    "space = \"sentence-transformers\"\n",
    "model_name = \"paraphrase-multilingual-MiniLM-L12-v2\"\n",
    "tokenizer = AutoTokenizer.from_pretrained(\"{}/{}\".format(space, model_name))\n",
    "sentences = [\"This framework generates embeddings for each input sentence\"]\n",
    "encoded_input = tokenizer(\n",
    "    sentences, padding=True, truncation=True, max_length=512, return_tensors=\"pt\"\n",
    ")\n",
    "input_dict = {\n",
    "    'input_ids': encoded_input['input_ids'].cpu().numpy(),\n",
    "    'token_type_ids': encoded_input['token_type_ids'].cpu().numpy(),\n",
    "    'attention_mask': encoded_input['attention_mask'].cpu().numpy()\n",
    "}\n",
    "session = onnxruntime.InferenceSession(\"{}.onnx\".format(model_name), providers= ['CPUExecutionProvider'])"
   ]
  },
  {
   "cell_type": "code",
   "execution_count": 4,
   "metadata": {},
   "outputs": [
    {
     "name": "stdout",
     "output_type": "stream",
     "text": [
      "2.34 ms ± 139 µs per loop (mean ± std. dev. of 7 runs, 100 loops each)\n"
     ]
    }
   ],
   "source": [
    "%timeit session.run(None, input_dict)"
   ]
  },
  {
   "cell_type": "code",
   "execution_count": 5,
   "metadata": {},
   "outputs": [],
   "source": [
    "model_path = \"{}.onnx\".format(model_name)\n",
    "m = onnx_tool.Model(model_path)\n",
    "m.graph.shape_infer(input_dict) \n",
    "m.graph.profile()\n",
    "m.graph.print_node_map(\"{}_FLOPs.csv\".format(model_name), metric='FLOPs')\n",
    "m.graph.print_node_map(\"{}.csv\".format(model_name), metric='FLOPs')"
   ]
  },
  {
   "cell_type": "code",
   "execution_count": 6,
   "metadata": {},
   "outputs": [],
   "source": [
    "space = \"sentence-transformers\"\n",
    "model_name = \"distiluse-base-multilingual-cased-v1\"\n",
    "tokenizer = AutoTokenizer.from_pretrained(\"{}/{}\".format(space, model_name))\n",
    "sentences = [\"This framework generates embeddings for each input sentence\"]\n",
    "encoded_input = tokenizer(\n",
    "    sentences, padding=True, truncation=True, max_length=512, return_tensors=\"pt\"\n",
    ")\n",
    "input_dict = {\n",
    "    'input_ids': encoded_input['input_ids'].cpu().numpy(),\n",
    "    'attention_mask': encoded_input['attention_mask'].cpu().numpy()\n",
    "}\n",
    "session = onnxruntime.InferenceSession(\"{}.onnx\".format(model_name), providers= ['CPUExecutionProvider'])"
   ]
  },
  {
   "cell_type": "code",
   "execution_count": 7,
   "metadata": {},
   "outputs": [
    {
     "name": "stdout",
     "output_type": "stream",
     "text": [
      "4.27 ms ± 72.1 µs per loop (mean ± std. dev. of 7 runs, 100 loops each)\n"
     ]
    }
   ],
   "source": [
    "%timeit session.run(None, input_dict)"
   ]
  },
  {
   "cell_type": "code",
   "execution_count": 8,
   "metadata": {},
   "outputs": [],
   "source": [
    "model_path = \"{}.onnx\".format(model_name)\n",
    "m = onnx_tool.Model(model_path)\n",
    "m.graph.shape_infer(input_dict) \n",
    "m.graph.profile()\n",
    "m.graph.print_node_map(\"{}.csv\".format(model_name), metric='FLOPs')"
   ]
  }
 ],
 "metadata": {
  "kernelspec": {
   "display_name": "vec",
   "language": "python",
   "name": "python3"
  },
  "language_info": {
   "codemirror_mode": {
    "name": "ipython",
    "version": 3
   },
   "file_extension": ".py",
   "mimetype": "text/x-python",
   "name": "python",
   "nbconvert_exporter": "python",
   "pygments_lexer": "ipython3",
   "version": "3.11.5"
  }
 },
 "nbformat": 4,
 "nbformat_minor": 2
}
